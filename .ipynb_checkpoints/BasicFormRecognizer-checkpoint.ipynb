{
 "cells": [
  {
   "cell_type": "code",
   "execution_count": 2,
   "id": "incredible-nerve",
   "metadata": {},
   "outputs": [],
   "source": [
    "from azure.ai.formrecognizer import FormRecognizerClient, FormTrainingClient\n",
    "from azure.core.credentials import AzureKeyCredential\n",
    "import json"
   ]
  },
  {
   "cell_type": "code",
   "execution_count": 3,
   "id": "applied-interstate",
   "metadata": {},
   "outputs": [],
   "source": [
    "endpoint = \"https://ocrkudosware.cognitiveservices.azure.com/\"\n",
    "key = \"Key\"\n",
    "form_recognizer_client = FormRecognizerClient(endpoint, AzureKeyCredential(key))\n",
    "form_training_client = FormTrainingClient(endpoint, AzureKeyCredential(key))\n",
    "item = \"https://imagenanimal.com/wp-content/uploads/2019/11/fake-chase-bank-statement-template-unique-fake-business-bank-statements-of-fake-chase-bank-statement-template.jpg\""
   ]
  },
  {
   "cell_type": "code",
   "execution_count": 5,
   "id": "collaborative-desire",
   "metadata": {},
   "outputs": [],
   "source": [
    "pdf = open(\"sample-bank-statement.pdf\",\"rb\")\n",
    "data = pdf.read()\n",
    "poll = form_recognizer_client.begin_recognize_content(data)"
   ]
  },
  {
   "cell_type": "code",
   "execution_count": 6,
   "id": "meaningful-insertion",
   "metadata": {},
   "outputs": [],
   "source": [
    "page = poll.result()\n",
    "table=page[0].tables[0]"
   ]
  },
  {
   "cell_type": "code",
   "execution_count": 7,
   "id": "breeding-membership",
   "metadata": {},
   "outputs": [
    {
     "name": "stdout",
     "output_type": "stream",
     "text": [
      "Cell text: DATE\n",
      "Location: [Point(x=0.5023, y=7.1679), Point(x=1.1647, y=7.1679), Point(x=1.1647, y=7.3448), Point(x=0.5023, y=7.3448)]\n",
      "Cell text: DESCRIPTION\n",
      "Location: [Point(x=1.1647, y=7.1679), Point(x=4.484, y=7.1679), Point(x=4.484, y=7.3448), Point(x=1.1647, y=7.3448)]\n",
      "Cell text: AMOUNT\n",
      "Location: [Point(x=4.484, y=7.1679), Point(x=7.5297, y=7.1679), Point(x=7.5297, y=7.3516), Point(x=4.484, y=7.3448)]\n",
      "Cell text: 07/02\n",
      "Location: [Point(x=0.5023, y=7.3448), Point(x=1.1647, y=7.3448), Point(x=1.1647, y=7.5081), Point(x=0.5023, y=7.5081)]\n",
      "Cell text: Deposit\n",
      "Location: [Point(x=1.1647, y=7.3448), Point(x=4.484, y=7.3448), Point(x=4.484, y=7.5081), Point(x=1.1647, y=7.5081)]\n",
      "Cell text: $17,120.00\n",
      "Location: [Point(x=4.484, y=7.3448), Point(x=7.5297, y=7.3516), Point(x=7.5297, y=7.5081), Point(x=4.484, y=7.5081)]\n",
      "Cell text: 07/09\n",
      "Location: [Point(x=0.5023, y=7.5081), Point(x=1.1647, y=7.5081), Point(x=1.1647, y=7.6782), Point(x=0.5023, y=7.6782)]\n",
      "Cell text: Deposit\n",
      "Location: [Point(x=1.1647, y=7.5081), Point(x=4.484, y=7.5081), Point(x=4.484, y=7.6782), Point(x=1.1647, y=7.6782)]\n",
      "Cell text: 24,610.00\n",
      "Location: [Point(x=4.484, y=7.5081), Point(x=7.5297, y=7.5081), Point(x=7.5297, y=7.6782), Point(x=4.484, y=7.6782)]\n",
      "Cell text: 07/14\n",
      "Location: [Point(x=0.5023, y=7.6782), Point(x=1.1647, y=7.6782), Point(x=1.1647, y=7.8414), Point(x=0.4951, y=7.8482)]\n",
      "Cell text: Deposit\n",
      "Location: [Point(x=1.1647, y=7.6782), Point(x=4.484, y=7.6782), Point(x=4.484, y=7.8414), Point(x=1.1647, y=7.8414)]\n",
      "Cell text: 11,424.00\n",
      "Location: [Point(x=4.484, y=7.6782), Point(x=7.5297, y=7.6782), Point(x=7.5369, y=7.8482), Point(x=4.484, y=7.8414)]\n",
      "Cell text: 07/15\n",
      "Location: [Point(x=0.4951, y=7.8482), Point(x=1.1647, y=7.8414), Point(x=1.1647, y=8.0115), Point(x=0.4951, y=8.0115)]\n",
      "Cell text: Deposit\n",
      "Location: [Point(x=1.1647, y=7.8414), Point(x=4.484, y=7.8414), Point(x=4.484, y=8.0115), Point(x=1.1647, y=8.0115)]\n",
      "Cell text: 1,349.00\n",
      "Location: [Point(x=4.484, y=7.8414), Point(x=7.5369, y=7.8482), Point(x=7.5369, y=8.0115), Point(x=4.484, y=8.0115)]\n",
      "Cell text: 07/21\n",
      "Location: [Point(x=0.4951, y=8.0115), Point(x=1.1647, y=8.0115), Point(x=1.1647, y=8.1816), Point(x=0.4951, y=8.1816)]\n",
      "Cell text: Deposit\n",
      "Location: [Point(x=1.1647, y=8.0115), Point(x=4.484, y=8.0115), Point(x=4.484, y=8.1816), Point(x=1.1647, y=8.1816)]\n",
      "Cell text: 5,000.00\n",
      "Location: [Point(x=4.484, y=8.0115), Point(x=7.5369, y=8.0115), Point(x=7.5369, y=8.1816), Point(x=4.484, y=8.1816)]\n",
      "Cell text: 07/21\n",
      "Location: [Point(x=0.4951, y=8.1816), Point(x=1.1647, y=8.1816), Point(x=1.1647, y=8.3449), Point(x=0.4951, y=8.3449)]\n",
      "Cell text: Deposit\n",
      "Location: [Point(x=1.1647, y=8.1816), Point(x=4.484, y=8.1816), Point(x=4.4912, y=8.3449), Point(x=1.1647, y=8.3449)]\n",
      "Cell text: 3,120.00\n",
      "Location: [Point(x=4.484, y=8.1816), Point(x=7.5369, y=8.1816), Point(x=7.5369, y=8.3449), Point(x=4.4912, y=8.3449)]\n",
      "Cell text: 07/23\n",
      "Location: [Point(x=0.4951, y=8.3449), Point(x=1.1647, y=8.3449), Point(x=1.1647, y=8.5082), Point(x=0.4951, y=8.5082)]\n",
      "Cell text: Deposit\n",
      "Location: [Point(x=1.1647, y=8.3449), Point(x=4.4912, y=8.3449), Point(x=4.4912, y=8.515), Point(x=1.1647, y=8.5082)]\n",
      "Cell text: 33,138.00\n",
      "Location: [Point(x=4.4912, y=8.3449), Point(x=7.5369, y=8.3449), Point(x=7.5369, y=8.515), Point(x=4.4912, y=8.515)]\n",
      "Cell text: 07/28\n",
      "Location: [Point(x=0.4951, y=8.5082), Point(x=1.1647, y=8.5082), Point(x=1.1647, y=8.6783), Point(x=0.4951, y=8.6783)]\n",
      "Cell text: Deposit\n",
      "Location: [Point(x=1.1647, y=8.5082), Point(x=4.4912, y=8.515), Point(x=4.4912, y=8.6783), Point(x=1.1647, y=8.6783)]\n",
      "Cell text: 18,114.00\n",
      "Location: [Point(x=4.4912, y=8.515), Point(x=7.5369, y=8.515), Point(x=7.5369, y=8.6783), Point(x=4.4912, y=8.6783)]\n",
      "Cell text: 07/30\n",
      "Location: [Point(x=0.4951, y=8.6783), Point(x=1.1647, y=8.6783), Point(x=1.1647, y=8.8551), Point(x=0.4951, y=8.8551)]\n",
      "Cell text: Deposit\n",
      "Location: [Point(x=1.1647, y=8.6783), Point(x=4.4912, y=8.6783), Point(x=4.4912, y=8.8551), Point(x=1.1647, y=8.8551)]\n",
      "Cell text: 6,908.63\n",
      "Location: [Point(x=4.4912, y=8.6783), Point(x=7.5369, y=8.6783), Point(x=7.5369, y=8.8551), Point(x=4.4912, y=8.8551)]\n",
      "Cell text: 07/30\n",
      "Location: [Point(x=0.4951, y=8.8551), Point(x=1.1647, y=8.8551), Point(x=1.1647, y=9.0252), Point(x=0.4879, y=9.0252)]\n",
      "Cell text: Deposit\n",
      "Location: [Point(x=1.1647, y=8.8551), Point(x=4.4912, y=8.8551), Point(x=4.4912, y=9.032), Point(x=1.1647, y=9.0252)]\n",
      "Cell text: 5,100.00\n",
      "Location: [Point(x=4.4912, y=8.8551), Point(x=7.5369, y=8.8551), Point(x=7.5369, y=9.032), Point(x=4.4912, y=9.032)]\n"
     ]
    }
   ],
   "source": [
    "for cell in table.cells:\n",
    "    print(\"Cell text: {}\".format(cell.text))\n",
    "    print(\"Location: {}\".format(cell.bounding_box))"
   ]
  },
  {
   "cell_type": "code",
   "execution_count": 30,
   "id": "changed-hypothesis",
   "metadata": {},
   "outputs": [
    {
     "data": {
      "text/plain": [
       "<bound method FormPage.to_dict of FormPage(page_number=1, text_angle=-0.337, width=812.0, height=1022.0, unit=pixel, tables=[FormTable(page_number=1, cells=[FormTableCell(text=DATE, row_index=0, column_index=0, row_span=1, column_span=1, bounding_box=[Point(x=54.0, y=585.0), Point(x=106.0, y=585.0), Point(x=106.0, y=607.0), Point(x=52.0, y=606.0)], confidence=1.0, is_header=False, is_footer=False, page_number=1, field_elements=[FormWord(text=DATE, bounding_box=[Point(x=59.0, y=595.0), Point(x=84.0, y=595.0), Point(x=85.0, y=604.0), Point(x=59.0, y=605.0)], confidence=0.994, page_number=1, kind=word)]), FormTableCell(text=DEPOSITS AND ADDITIONS DESCRIPTION, row_index=0, column_index=1, row_span=1, column_span=1, bounding_box=[Point(x=106.0, y=585.0), Point(x=482.0, y=578.0), Point(x=483.0, y=604.0), Point(x=106.0, y=607.0)], confidence=1.0, is_header=False, is_footer=False, page_number=1, field_elements=[FormWord(text=DEPOSITS, bounding_box=[Point(x=57.0, y=564.0), Point(x=147.0, y=563.0), Point(x=147.0, y=581.0), Point(x=57.0, y=581.0)], conf>"
      ]
     },
     "execution_count": 30,
     "metadata": {},
     "output_type": "execute_result"
    }
   ],
   "source": [
    "\n"
   ]
  },
  {
   "cell_type": "code",
   "execution_count": 9,
   "id": "velvet-limit",
   "metadata": {},
   "outputs": [
    {
     "name": "stdout",
     "output_type": "stream",
     "text": [
      "Cell text: DATE\n",
      "Location: [Point(x=0.399, y=3.5688), Point(x=1.0327, y=3.5688), Point(x=1.04, y=3.7478), Point(x=0.399, y=3.7407)]\n",
      "Cell text: DESCRIPTION\n",
      "Location: [Point(x=1.0327, y=3.5688), Point(x=5.0827, y=3.5688), Point(x=5.0827, y=3.7407), Point(x=1.04, y=3.7478)]\n",
      "Cell text: AMOUNT\n",
      "Location: [Point(x=5.0827, y=3.5688), Point(x=7.5084, y=3.576), Point(x=7.5084, y=3.7478), Point(x=5.0827, y=3.7407)]\n",
      "Cell text: 07/11\n",
      "Location: [Point(x=0.399, y=3.7407), Point(x=1.04, y=3.7478), Point(x=1.04, y=3.8982), Point(x=0.3917, y=3.8982)]\n",
      "Cell text: Online Payment XXXXX To Vendor\n",
      "Location: [Point(x=1.04, y=3.7478), Point(x=5.0827, y=3.7407), Point(x=5.0827, y=3.9054), Point(x=1.04, y=3.8982)]\n",
      "Cell text: $8,928.00\n",
      "Location: [Point(x=5.0827, y=3.7407), Point(x=7.5084, y=3.7478), Point(x=7.5156, y=3.9054), Point(x=5.0827, y=3.9054)]\n",
      "Cell text: 07/11\n",
      "Location: [Point(x=0.3917, y=3.8982), Point(x=1.04, y=3.8982), Point(x=1.04, y=4.0558), Point(x=0.3917, y=4.0558)]\n",
      "Cell text: Online Payment XXXXX To Vendor\n",
      "Location: [Point(x=1.04, y=3.8982), Point(x=5.0827, y=3.9054), Point(x=5.0827, y=4.0558), Point(x=1.04, y=4.0558)]\n",
      "Cell text: 2,960.00\n",
      "Location: [Point(x=5.0827, y=3.9054), Point(x=7.5156, y=3.9054), Point(x=7.5156, y=4.0558), Point(x=5.0827, y=4.0558)]\n",
      "Cell text: 07/25\n",
      "Location: [Point(x=0.3917, y=4.0558), Point(x=1.04, y=4.0558), Point(x=1.0473, y=4.2062), Point(x=0.3917, y=4.2062)]\n",
      "Cell text: Online Payment XXXXX To Vendor\n",
      "Location: [Point(x=1.04, y=4.0558), Point(x=5.0827, y=4.0558), Point(x=5.0827, y=4.2133), Point(x=1.0473, y=4.2062)]\n",
      "Cell text: 250.00\n",
      "Location: [Point(x=5.0827, y=4.0558), Point(x=7.5156, y=4.0558), Point(x=7.5156, y=4.2133), Point(x=5.0827, y=4.2133)]\n",
      "Cell text: 07/30\n",
      "Location: [Point(x=0.3917, y=4.2062), Point(x=1.0473, y=4.2062), Point(x=1.0473, y=4.3852), Point(x=0.3917, y=4.3924)]\n",
      "Cell text: ADP TX/Fincl Svc ADP\n",
      "Location: [Point(x=1.0473, y=4.2062), Point(x=5.0827, y=4.2133), Point(x=5.09, y=4.3924), Point(x=1.0473, y=4.3852)]\n",
      "Cell text: 2,887.68\n",
      "Location: [Point(x=5.0827, y=4.2133), Point(x=7.5156, y=4.2133), Point(x=7.5229, y=4.3924), Point(x=5.09, y=4.3924)]\n"
     ]
    }
   ],
   "source": [
    "table = page[2].tables[0]\n",
    "for cell in table.cells:\n",
    "    print(\"Cell text: {}\".format(cell.text))\n",
    "    print(\"Location: {}\".format(cell.bounding_box))"
   ]
  },
  {
   "cell_type": "code",
   "execution_count": 11,
   "id": "every-heading",
   "metadata": {},
   "outputs": [
    {
     "name": "stdout",
     "output_type": "stream",
     "text": [
      "Cell text: CHECK NUMBER\n",
      "Location: [Point(x=0.3971, y=1.6471), Point(x=1.521, y=1.6471), Point(x=1.521, y=1.9189), Point(x=0.3971, y=1.9248)]\n",
      "Cell text: DESCRIPTION\n",
      "Location: [Point(x=1.521, y=1.6471), Point(x=4.0972, y=1.6471), Point(x=4.0972, y=1.9189), Point(x=1.521, y=1.9189)]\n",
      "Cell text: DATE PAID\n",
      "Location: [Point(x=4.0972, y=1.6471), Point(x=6.491, y=1.6471), Point(x=6.491, y=1.9189), Point(x=4.0972, y=1.9189)]\n",
      "Cell text: AMOUNT\n",
      "Location: [Point(x=6.491, y=1.6471), Point(x=7.5274, y=1.6471), Point(x=7.5347, y=1.9189), Point(x=6.491, y=1.9189)]\n",
      "Cell text: XXXX ^\n",
      "Location: [Point(x=0.3971, y=1.9248), Point(x=1.521, y=1.9189), Point(x=1.5283, y=2.0902), Point(x=0.3971, y=2.0902)]\n",
      "Cell text: \n",
      "Location: [Point(x=1.521, y=1.9189), Point(x=4.0972, y=1.9189), Point(x=4.1045, y=2.0902), Point(x=1.5283, y=2.0902)]\n",
      "Cell text: 07/14\n",
      "Location: [Point(x=4.0972, y=1.9189), Point(x=6.491, y=1.9189), Point(x=6.491, y=2.0902), Point(x=4.1045, y=2.0902)]\n",
      "Cell text: $1,471.99\n",
      "Location: [Point(x=6.491, y=1.9189), Point(x=7.5347, y=1.9189), Point(x=7.5347, y=2.0902), Point(x=6.491, y=2.0902)]\n",
      "Cell text: XXXX ^\n",
      "Location: [Point(x=0.3971, y=2.0902), Point(x=1.5283, y=2.0902), Point(x=1.5283, y=2.2733), Point(x=0.3971, y=2.2733)]\n",
      "Cell text: \n",
      "Location: [Point(x=1.5283, y=2.0902), Point(x=4.1045, y=2.0902), Point(x=4.1045, y=2.2793), Point(x=1.5283, y=2.2733)]\n",
      "Cell text: 07/08\n",
      "Location: [Point(x=4.1045, y=2.0902), Point(x=6.491, y=2.0902), Point(x=6.491, y=2.2793), Point(x=4.1045, y=2.2793)]\n",
      "Cell text: 1,697.05\n",
      "Location: [Point(x=6.491, y=2.0902), Point(x=7.5347, y=2.0902), Point(x=7.5347, y=2.2793), Point(x=6.491, y=2.2793)]\n"
     ]
    }
   ],
   "source": [
    "table = page[2].tables[1]\n",
    "for cell in table.cells:\n",
    "    print(\"Cell text: {}\".format(cell.text))\n",
    "    print(\"Location: {}\".format(cell.bounding_box))"
   ]
  },
  {
   "cell_type": "code",
   "execution_count": null,
   "id": "cathedral-fraud",
   "metadata": {},
   "outputs": [],
   "source": []
  }
 ],
 "metadata": {
  "kernelspec": {
   "display_name": "Python 3",
   "language": "python",
   "name": "python3"
  },
  "language_info": {
   "codemirror_mode": {
    "name": "ipython",
    "version": 3
   },
   "file_extension": ".py",
   "mimetype": "text/x-python",
   "name": "python",
   "nbconvert_exporter": "python",
   "pygments_lexer": "ipython3",
   "version": "3.9.2"
  }
 },
 "nbformat": 4,
 "nbformat_minor": 5
}
