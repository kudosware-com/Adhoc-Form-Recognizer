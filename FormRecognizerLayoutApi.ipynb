{
 "cells": [
  {
   "cell_type": "code",
   "execution_count": 1,
   "id": "hundred-progress",
   "metadata": {},
   "outputs": [],
   "source": [
    "import requests\n",
    "import pandas as pd\n",
    "import re"
   ]
  },
  {
   "cell_type": "code",
   "execution_count": 2,
   "id": "african-tower",
   "metadata": {},
   "outputs": [],
   "source": [
    "endpoint = \"https://ocrkudosware.cognitiveservices.azure.com/\"\n",
    "key = \"b186f7f03f6249b6870a6e0eb0ab5a8c\"\n",
    "pdf = open(\"test-2-scanned.pdf\",\"rb\")\n",
    "pdf_data = pdf.read()\n",
    "\n",
    "# Initial data\n",
    "url = endpoint + \"formrecognizer/v2.1/layout/analyze?language=en&pages=1\"\n",
    "header = {\n",
    "    \"Content-Type\":\"application/pdf\",\n",
    "    \"Ocp-Apim-Subscription-Key\":key\n",
    "}\n",
    "response = requests.post(url,headers=header,data=pdf_data)\n",
    "requestId = response.headers[\"apim-request-id\"]"
   ]
  },
  {
   "cell_type": "code",
   "execution_count": 6,
   "id": "inner-structure",
   "metadata": {},
   "outputs": [],
   "source": [
    "result_url = \"https://ocrkudosware.cognitiveservices.azure.com/formrecognizer/v2.1/layout/analyzeResults/\" + requestId\n",
    "results = requests.get(result_url,headers={\"Ocp-Apim-Subscription-Key\":key})"
   ]
  },
  {
   "cell_type": "code",
   "execution_count": 4,
   "id": "exotic-integral",
   "metadata": {},
   "outputs": [],
   "source": [
    "def normalize(summary_field):\n",
    "    n = len(summary_field)\n",
    "    count = 0\n",
    "    rem = 0\n",
    "    for i in range(n-1,0,-1):\n",
    "        count += 1\n",
    "        if(summary_field[i] == \".\"):\n",
    "            rem = i\n",
    "            break\n",
    "    summary_field = summary_field.replace(\".\",\"#\")\n",
    "    summary_field = summary_field[:rem] + \".\" + summary_field[rem+1:]\n",
    "    summary_field = summary_field.replace(\"#\",\"\")\n",
    "    return summary_field\n",
    "    \n",
    "    \n",
    "            \n",
    "            \n",
    "        \n",
    "    \n",
    "            \n",
    "        "
   ]
  },
  {
   "cell_type": "code",
   "execution_count": 7,
   "id": "vocal-cleaners",
   "metadata": {},
   "outputs": [
    {
     "name": "stdout",
     "output_type": "stream",
     "text": [
      "2052.42\n",
      "-2052.42\n",
      "3289.64\n",
      "0.0\n",
      "0.0\n",
      "0.0\n",
      "0.0\n"
     ]
    }
   ],
   "source": [
    "table_data = results.json()\n",
    "initial_bal = table_data[\"analyzeResult\"][\"readResults\"][0][\"lines\"]\n",
    "Previous_Balance = 0\n",
    "Payment_Credits = 0\n",
    "Purchases = 0\n",
    "Cash_Advances = 0\n",
    "Balance_Transfers = 0\n",
    "Fees_Charged = 0\n",
    "Interest_Charged = 0\n",
    "New_Balance = 0 \n",
    "\n",
    "for i in range(len(initial_bal)):\n",
    "    if(initial_bal[i][\"text\"] == \"Previous Balance\"):\n",
    "        Previous_Balance = initial_bal[i+1][\"text\"]\n",
    "    elif(initial_bal[i][\"text\"] == \"Payment, Credits\"):\n",
    "        Payment_Credits = initial_bal[i+1][\"text\"]\n",
    "    elif(initial_bal[i][\"text\"] == \"Purchases\"):\n",
    "        Purchases = initial_bal[i+1][\"text\"]\n",
    "    elif(initial_bal[i][\"text\"] == \"Cash Advances\"):\n",
    "        Cash_Advances = initial_bal[i+1][\"text\"]\n",
    "    elif(initial_bal[i][\"text\"] == \"Balance Transfers\"):\n",
    "        Balance_Transfers = initial_bal[i+1][\"text\"]\n",
    "    elif(initial_bal[i][\"text\"] == \"Fees Charged\"):\n",
    "        Fees_Charged = initial_bal[i+1][\"text\"]\n",
    "    elif(initial_bal[i][\"text\"] == \"Interest Charged\"):\n",
    "        Interest_Charged = initial_bal[i+1][\"text\"]\n",
    "    elif(initial_bal[i][\"text\"] == \"New Balance\"):\n",
    "        New_Balance = initial_bal[i+1][\"text\"]\n",
    "        \n",
    "        \n",
    "        \n",
    "Previous_Balance = Previous_Balance.replace(\"$\",\"\")\n",
    "Previous_Balance = float(Previous_Balance.replace(\",\",\"\"))\n",
    "print(Previous_Balance)\n",
    "\n",
    "Payment_Credits = Payment_Credits.replace(\"$\",\"\")\n",
    "Payment_Credits = float(Payment_Credits.replace(\",\",\"\"))\n",
    "print(Payment_Credits)\n",
    "\n",
    "Purchases = Purchases.replace(\"$\",\"\")\n",
    "Purchases = normalize(Purchases)\n",
    "Purchases = float(Purchases.replace(\",\",\"\"))\n",
    "print(Purchases)\n",
    "\n",
    "Cash_Advances = Cash_Advances.replace(\"$\",\"\")\n",
    "Cash_Advances = float(Cash_Advances.replace(\",\",\"\"))\n",
    "print(Cash_Advances)\n",
    "\n",
    "Balance_Transfers = Balance_Transfers.replace(\"$\",\"\")\n",
    "Balance_Transfers = float(Balance_Transfers.replace(\",\",\"\"))\n",
    "print(Balance_Transfers)\n",
    "\n",
    "Fees_Charged = Fees_Charged.replace(\"$\",\"\")\n",
    "Fees_Charged = float(Fees_Charged.replace(\",\",\"\"))\n",
    "print(Fees_Charged)\n",
    "\n",
    "Interest_Charged = Interest_Charged.replace(\"$\",\"\")\n",
    "Interest_Charged = float(Interest_Charged.replace(\",\",\"\"))\n",
    "print(Interest_Charged)\n",
    "\n",
    "New_Balance = New_Balance.replace(\"$\",\"\")\n",
    "New_Balance = float(New_Balance.replace(\",\",\"\"))"
   ]
  },
  {
   "cell_type": "code",
   "execution_count": 8,
   "id": "framed-iceland",
   "metadata": {},
   "outputs": [
    {
     "name": "stdout",
     "output_type": "stream",
     "text": [
      "3289.64 3289.64\n",
      "matched\n"
     ]
    }
   ],
   "source": [
    "# validate amount \n",
    "val = Previous_Balance + Payment_Credits + Purchases + Cash_Advances + Balance_Transfers + Fees_Charged + Interest_Charged\n",
    "val = \"{:.2f}\".format(val)\n",
    "New_Balance = \"{:.2f}\".format(New_Balance)\n",
    "print(val,New_Balance)\n",
    "if(val == New_Balance):\n",
    "    print(\"matched\")\n",
    "else:\n",
    "    print(\"corrupted\")"
   ]
  },
  {
   "cell_type": "code",
   "execution_count": 9,
   "id": "accredited-holder",
   "metadata": {},
   "outputs": [],
   "source": [
    "# Transactions\n",
    "url = endpoint + \"formrecognizer/v2.1/layout/analyze?language=en&pages=3\"\n",
    "header = {\n",
    "    \"Content-Type\":\"application/pdf\",\n",
    "    \"Ocp-Apim-Subscription-Key\":key\n",
    "}\n",
    "response = requests.post(url,headers=header,data=pdf_data)\n",
    "requestId = response.headers[\"apim-request-id\"]\n",
    "\n"
   ]
  },
  {
   "cell_type": "code",
   "execution_count": 13,
   "id": "forced-offer",
   "metadata": {
    "scrolled": true
   },
   "outputs": [
    {
     "data": {
      "text/plain": [
       "200"
      ]
     },
     "execution_count": 13,
     "metadata": {},
     "output_type": "execute_result"
    }
   ],
   "source": [
    "result_url = \"https://ocrkudosware.cognitiveservices.azure.com/formrecognizer/v2.1/layout/analyzeResults/\" + requestId\n",
    "results = requests.get(result_url,headers={\"Ocp-Apim-Subscription-Key\":key})\n",
    "results.status_code"
   ]
  },
  {
   "cell_type": "code",
   "execution_count": 14,
   "id": "weighted-lesson",
   "metadata": {},
   "outputs": [],
   "source": [
    "table_data = results.json()\n"
   ]
  },
  {
   "cell_type": "code",
   "execution_count": 15,
   "id": "extended-boulder",
   "metadata": {},
   "outputs": [],
   "source": [
    "rows = table_data[\"analyzeResult\"][\"pageResults\"][0][\"tables\"][0][\"rows\"]\n",
    "cols = table_data[\"analyzeResult\"][\"pageResults\"][0][\"tables\"][0][\"columns\"]\n",
    "data = table_data[\"analyzeResult\"][\"pageResults\"][0][\"tables\"][0][\"cells\"]"
   ]
  },
  {
   "cell_type": "code",
   "execution_count": 16,
   "id": "personalized-soldier",
   "metadata": {},
   "outputs": [],
   "source": [
    "lst = [None] * rows\n",
    "for i in range(len(data)):\n",
    "    curr_row = data[i][\"rowIndex\"]\n",
    "    curr_col = data[i][\"columnIndex\"]\n",
    "    tpList = lst[curr_row]\n",
    "    if(tpList == None):\n",
    "        tpList = [None] * cols\n",
    "    tpList[curr_col] = data[i][\"text\"]\n",
    "    \n",
    "    lst[curr_row] = tpList"
   ]
  },
  {
   "cell_type": "code",
   "execution_count": 17,
   "id": "spoken-spouse",
   "metadata": {},
   "outputs": [],
   "source": [
    "df = pd.DataFrame(lst)\n",
    "df.to_excel(\"check6.xlsx\",index=False,header=False)"
   ]
  },
  {
   "cell_type": "raw",
   "id": "dominican-resident",
   "metadata": {},
   "source": [
    "# verify transactions\n",
    "transactions = pd.read_excel(\"check2.xlsx\")\n",
    "transactions = transactions[:][\"$ Amount\"]\n",
    "curr_total = 0\n",
    "for i in range(7,len(transactions)):\n",
    "    if(type(transactions[i]) == type(1.0)):\n",
    "        continue\n",
    "    else:\n",
    "        transactions[i] = transactions[i].replace(\",\",\"\")\n",
    "        transactions[i] = float(transactions[i])\n",
    "        transactions[i] = \"{:.2f}\".format(transactions[i])\n",
    "        transactions[i] = float(transactions[i])\n",
    "#         print(transactions[i],curr_total)\n",
    "        curr_total += transactions[i]\n",
    "        curr_total = \"{:.2f}\".format(curr_total)\n",
    "        curr_total = float(curr_total)"
   ]
  },
  {
   "cell_type": "code",
   "execution_count": 18,
   "id": "given-trainer",
   "metadata": {},
   "outputs": [
    {
     "name": "stdout",
     "output_type": "stream",
     "text": [
      "-2052.42 -2052.42\n",
      "sub-matched\n",
      "Last Matched  3289.64  =  3289.64\n"
     ]
    },
    {
     "name": "stderr",
     "output_type": "stream",
     "text": [
      "c:\\users\\darsh\\appdata\\local\\programs\\python\\python39\\lib\\site-packages\\IPython\\core\\interactiveshell.py:3437: SettingWithCopyWarning: \n",
      "A value is trying to be set on a copy of a slice from a DataFrame\n",
      "\n",
      "See the caveats in the documentation: https://pandas.pydata.org/pandas-docs/stable/user_guide/indexing.html#returning-a-view-versus-a-copy\n",
      "  exec(code_obj, self.user_global_ns, self.user_ns)\n",
      "<ipython-input-18-7327b6e15135>:24: SettingWithCopyWarning: \n",
      "A value is trying to be set on a copy of a slice from a DataFrame\n",
      "\n",
      "See the caveats in the documentation: https://pandas.pydata.org/pandas-docs/stable/user_guide/indexing.html#returning-a-view-versus-a-copy\n",
      "  transactions_amount[i] = float(transactions_amount[i])\n",
      "<ipython-input-18-7327b6e15135>:25: SettingWithCopyWarning: \n",
      "A value is trying to be set on a copy of a slice from a DataFrame\n",
      "\n",
      "See the caveats in the documentation: https://pandas.pydata.org/pandas-docs/stable/user_guide/indexing.html#returning-a-view-versus-a-copy\n",
      "  transactions_amount[i] = \"{:.2f}\".format(transactions_amount[i])\n",
      "<ipython-input-18-7327b6e15135>:26: SettingWithCopyWarning: \n",
      "A value is trying to be set on a copy of a slice from a DataFrame\n",
      "\n",
      "See the caveats in the documentation: https://pandas.pydata.org/pandas-docs/stable/user_guide/indexing.html#returning-a-view-versus-a-copy\n",
      "  transactions_amount[i] = float(transactions_amount[i])\n",
      "<ipython-input-18-7327b6e15135>:23: SettingWithCopyWarning: \n",
      "A value is trying to be set on a copy of a slice from a DataFrame\n",
      "\n",
      "See the caveats in the documentation: https://pandas.pydata.org/pandas-docs/stable/user_guide/indexing.html#returning-a-view-versus-a-copy\n",
      "  transactions_amount[i] = transactions_amount[i].replace(\",\",\"\")\n"
     ]
    }
   ],
   "source": [
    "# verify transactions - 2\n",
    "transactions = pd.read_excel(\"check6.xlsx\")\n",
    "transactions_amount = transactions[:][\"$ Amount\"]\n",
    "transactions_date = transactions[:][\"Date of Transaction\"]\n",
    "curr_total = 0\n",
    "temp_total = 0\n",
    "curr_type = \"\"\n",
    "mapped_amount_type = {\"PAYMENTS AND OTHER CREDITS\": Payment_Credits,\"PURCHASE\":Purchases}\n",
    "for i in range(len(transactions_amount)):\n",
    "    if(type(1.0) == type(transactions_amount[i])):\n",
    "        if(type(transactions_date[i]) == type(1.0)):\n",
    "            print(\"pass\")\n",
    "        elif(transactions_date[i] == \"PAYMENTS AND OTHER CREDITS\"):\n",
    "            current_type = mapped_amount_type[\"PAYMENTS AND OTHER CREDITS\"]  \n",
    "            \n",
    "            temp_total = 0\n",
    "        else:\n",
    "            print(temp_total,current_type)\n",
    "            if(current_type == temp_total):\n",
    "                print(\"sub-matched\")\n",
    "            temp_total = 0\n",
    "    else:\n",
    "        transactions_amount[i] = transactions_amount[i].replace(\",\",\"\")\n",
    "        transactions_amount[i] = float(transactions_amount[i])\n",
    "        transactions_amount[i] = \"{:.2f}\".format(transactions_amount[i])\n",
    "        transactions_amount[i] = float(transactions_amount[i])\n",
    "        curr_total += transactions_amount[i]\n",
    "        curr_total = \"{:.2f}\".format(curr_total)\n",
    "        curr_total = float(curr_total)\n",
    "        \n",
    "        temp_total += transactions_amount[i]\n",
    "        temp_total = \"{:.2f}\".format(temp_total)\n",
    "        temp_total = float(temp_total)\n",
    "        \n",
    "        \n",
    "        \n",
    "\n",
    "if(Purchases == temp_total):\n",
    "    print(\"Last Matched \",Purchases, \" = \",temp_total)"
   ]
  },
  {
   "cell_type": "code",
   "execution_count": null,
   "id": "healthy-kuwait",
   "metadata": {},
   "outputs": [],
   "source": []
  }
 ],
 "metadata": {
  "kernelspec": {
   "display_name": "Python 3",
   "language": "python",
   "name": "python3"
  },
  "language_info": {
   "codemirror_mode": {
    "name": "ipython",
    "version": 3
   },
   "file_extension": ".py",
   "mimetype": "text/x-python",
   "name": "python",
   "nbconvert_exporter": "python",
   "pygments_lexer": "ipython3",
   "version": "3.9.2"
  }
 },
 "nbformat": 4,
 "nbformat_minor": 5
}
